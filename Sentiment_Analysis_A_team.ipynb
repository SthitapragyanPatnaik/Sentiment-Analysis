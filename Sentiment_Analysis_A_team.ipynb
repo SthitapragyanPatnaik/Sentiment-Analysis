{
  "nbformat": 4,
  "nbformat_minor": 0,
  "metadata": {
    "colab": {
      "name": "Sentiment Analysis A-team.ipynb",
      "provenance": [],
      "collapsed_sections": [],
      "toc_visible": true
    },
    "kernelspec": {
      "name": "python3",
      "display_name": "Python 3"
    }
  },
  "cells": [
    {
      "cell_type": "markdown",
      "metadata": {
        "id": "AMJXEY9r4Af6",
        "colab_type": "text"
      },
      "source": [
        "# General Feature Extraction"
      ]
    },
    {
      "cell_type": "code",
      "metadata": {
        "id": "7SD5VWS44E-Q",
        "colab_type": "code",
        "colab": {}
      },
      "source": [
        "#When working on jupyter/spyder notebook on your local machine, run the commands for downloading the below libraries before importing\n",
        "\n",
        "# pip install -U spacy\n",
        "# pip install -U spacy-lookups-data\n",
        "# python -m spacy download en_core_web_sm\n",
        "# python -m spacy download en_core_web_md\n",
        "# python -m spacy download en_core_web_lg\n"
      ],
      "execution_count": 1,
      "outputs": []
    },
    {
      "cell_type": "code",
      "metadata": {
        "id": "sbaRRO7u4GOn",
        "colab_type": "code",
        "colab": {
          "base_uri": "https://localhost:8080/",
          "height": 404
        },
        "outputId": "79196bfc-e1bc-453f-e737-28885cdf1e8e"
      },
      "source": [
        "#Importing the required libraries\n",
        "\n",
        "!pip install wordcloud\n",
        "!pip install -U textblob\n",
        "!python -m textblob.download_corpora\n",
        "\n",
        "from textblob import TextBlob\n",
        "import pandas as pd\n",
        "import numpy as np\n",
        "import spacy\n",
        "import re\n",
        "from bs4 import BeautifulSoup\n",
        "import unicodedata\n",
        "import spacy\n",
        "from wordcloud import WordCloud\n",
        "import matplotlib.pyplot as plt\n",
        "from spacy.lang.en.stop_words import STOP_WORDS\n",
        "from sklearn.linear_model import SGDClassifier\n",
        "from sklearn.linear_model import LogisticRegression\n",
        "from sklearn.linear_model import LogisticRegressionCV\n",
        "from sklearn.svm import LinearSVC\n",
        "from sklearn.ensemble import RandomForestClassifier\n",
        "from sklearn.model_selection import train_test_split\n",
        "from sklearn.metrics import confusion_matrix, accuracy_score\n",
        "from sklearn.preprocessing import MinMaxScaler\n",
        "from sklearn.preprocessing import MaxAbsScaler \n",
        "%matplotlib inline\n"
      ],
      "execution_count": 2,
      "outputs": [
        {
          "output_type": "stream",
          "text": [
            "Requirement already satisfied: wordcloud in /usr/local/lib/python3.6/dist-packages (1.5.0)\n",
            "Requirement already satisfied: pillow in /usr/local/lib/python3.6/dist-packages (from wordcloud) (7.0.0)\n",
            "Requirement already satisfied: numpy>=1.6.1 in /usr/local/lib/python3.6/dist-packages (from wordcloud) (1.18.5)\n",
            "Requirement already up-to-date: textblob in /usr/local/lib/python3.6/dist-packages (0.15.3)\n",
            "Requirement already satisfied, skipping upgrade: nltk>=3.1 in /usr/local/lib/python3.6/dist-packages (from textblob) (3.2.5)\n",
            "Requirement already satisfied, skipping upgrade: six in /usr/local/lib/python3.6/dist-packages (from nltk>=3.1->textblob) (1.12.0)\n",
            "[nltk_data] Downloading package brown to /root/nltk_data...\n",
            "[nltk_data]   Unzipping corpora/brown.zip.\n",
            "[nltk_data] Downloading package punkt to /root/nltk_data...\n",
            "[nltk_data]   Unzipping tokenizers/punkt.zip.\n",
            "[nltk_data] Downloading package wordnet to /root/nltk_data...\n",
            "[nltk_data]   Unzipping corpora/wordnet.zip.\n",
            "[nltk_data] Downloading package averaged_perceptron_tagger to\n",
            "[nltk_data]     /root/nltk_data...\n",
            "[nltk_data]   Unzipping taggers/averaged_perceptron_tagger.zip.\n",
            "[nltk_data] Downloading package conll2000 to /root/nltk_data...\n",
            "[nltk_data]   Unzipping corpora/conll2000.zip.\n",
            "[nltk_data] Downloading package movie_reviews to /root/nltk_data...\n",
            "[nltk_data]   Unzipping corpora/movie_reviews.zip.\n",
            "Finished.\n"
          ],
          "name": "stdout"
        }
      ]
    },
    {
      "cell_type": "code",
      "metadata": {
        "id": "UUipdyM74GU_",
        "colab_type": "code",
        "colab": {
          "base_uri": "https://localhost:8080/",
          "height": 206
        },
        "outputId": "761fb38f-6521-4d7d-e530-b8f6a7406953"
      },
      "source": [
        "#Importing the given training data \n",
        "input_train=pd.read_csv('train.csv')\n",
        "input_train.head() "
      ],
      "execution_count": 3,
      "outputs": [
        {
          "output_type": "execute_result",
          "data": {
            "text/html": [
              "<div>\n",
              "<style scoped>\n",
              "    .dataframe tbody tr th:only-of-type {\n",
              "        vertical-align: middle;\n",
              "    }\n",
              "\n",
              "    .dataframe tbody tr th {\n",
              "        vertical-align: top;\n",
              "    }\n",
              "\n",
              "    .dataframe thead th {\n",
              "        text-align: right;\n",
              "    }\n",
              "</style>\n",
              "<table border=\"1\" class=\"dataframe\">\n",
              "  <thead>\n",
              "    <tr style=\"text-align: right;\">\n",
              "      <th></th>\n",
              "      <th>tweet_id</th>\n",
              "      <th>sentiment</th>\n",
              "      <th>tweet_text</th>\n",
              "    </tr>\n",
              "  </thead>\n",
              "  <tbody>\n",
              "    <tr>\n",
              "      <th>0</th>\n",
              "      <td>264183816548130816</td>\n",
              "      <td>positive</td>\n",
              "      <td>Gas by my house hit $3.39!!!! I\\u2019m going t...</td>\n",
              "    </tr>\n",
              "    <tr>\n",
              "      <th>1</th>\n",
              "      <td>263405084770172928</td>\n",
              "      <td>negative</td>\n",
              "      <td>Theo Walcott is still shit\\u002c watch Rafa an...</td>\n",
              "    </tr>\n",
              "    <tr>\n",
              "      <th>2</th>\n",
              "      <td>262163168678248449</td>\n",
              "      <td>negative</td>\n",
              "      <td>its not that I\\u2019m a GSP fan\\u002c i just h...</td>\n",
              "    </tr>\n",
              "    <tr>\n",
              "      <th>3</th>\n",
              "      <td>264249301910310912</td>\n",
              "      <td>negative</td>\n",
              "      <td>Iranian general says Israel\\u2019s Iron Dome c...</td>\n",
              "    </tr>\n",
              "    <tr>\n",
              "      <th>4</th>\n",
              "      <td>262682041215234048</td>\n",
              "      <td>neutral</td>\n",
              "      <td>Tehran\\u002c Mon Amour: Obama Tried to Establi...</td>\n",
              "    </tr>\n",
              "  </tbody>\n",
              "</table>\n",
              "</div>"
            ],
            "text/plain": [
              "             tweet_id  ...                                         tweet_text\n",
              "0  264183816548130816  ...  Gas by my house hit $3.39!!!! I\\u2019m going t...\n",
              "1  263405084770172928  ...  Theo Walcott is still shit\\u002c watch Rafa an...\n",
              "2  262163168678248449  ...  its not that I\\u2019m a GSP fan\\u002c i just h...\n",
              "3  264249301910310912  ...  Iranian general says Israel\\u2019s Iron Dome c...\n",
              "4  262682041215234048  ...  Tehran\\u002c Mon Amour: Obama Tried to Establi...\n",
              "\n",
              "[5 rows x 3 columns]"
            ]
          },
          "metadata": {
            "tags": []
          },
          "execution_count": 3
        }
      ]
    },
    {
      "cell_type": "code",
      "metadata": {
        "id": "D6NzQlFTYpR7",
        "colab_type": "code",
        "colab": {
          "base_uri": "https://localhost:8080/",
          "height": 206
        },
        "outputId": "958397be-789c-4ff8-86c3-9d1baf1daa2b"
      },
      "source": [
        "#Importing the given test data file\n",
        "df_test = pd.read_csv('test_samples.csv')\n",
        "df_test.head()"
      ],
      "execution_count": 4,
      "outputs": [
        {
          "output_type": "execute_result",
          "data": {
            "text/html": [
              "<div>\n",
              "<style scoped>\n",
              "    .dataframe tbody tr th:only-of-type {\n",
              "        vertical-align: middle;\n",
              "    }\n",
              "\n",
              "    .dataframe tbody tr th {\n",
              "        vertical-align: top;\n",
              "    }\n",
              "\n",
              "    .dataframe thead th {\n",
              "        text-align: right;\n",
              "    }\n",
              "</style>\n",
              "<table border=\"1\" class=\"dataframe\">\n",
              "  <thead>\n",
              "    <tr style=\"text-align: right;\">\n",
              "      <th></th>\n",
              "      <th>tweet_id</th>\n",
              "      <th>tweet_text</th>\n",
              "    </tr>\n",
              "  </thead>\n",
              "  <tbody>\n",
              "    <tr>\n",
              "      <th>0</th>\n",
              "      <td>264238274963451904</td>\n",
              "      <td>@jjuueellzz down in the Atlantic city, ventnor...</td>\n",
              "    </tr>\n",
              "    <tr>\n",
              "      <th>1</th>\n",
              "      <td>218775148495515649</td>\n",
              "      <td>Musical awareness: Great Big Beautiful Tomorro...</td>\n",
              "    </tr>\n",
              "    <tr>\n",
              "      <th>2</th>\n",
              "      <td>258965201766998017</td>\n",
              "      <td>On Radio786 100.4fm 7:10 Fri Oct 19 Labour ana...</td>\n",
              "    </tr>\n",
              "    <tr>\n",
              "      <th>3</th>\n",
              "      <td>262926411352903682</td>\n",
              "      <td>Kapan sih lo ngebuktiin,jan ngomong doang Susa...</td>\n",
              "    </tr>\n",
              "    <tr>\n",
              "      <th>4</th>\n",
              "      <td>171874368908050432</td>\n",
              "      <td>Excuse the connectivity of this live stream, f...</td>\n",
              "    </tr>\n",
              "  </tbody>\n",
              "</table>\n",
              "</div>"
            ],
            "text/plain": [
              "             tweet_id                                         tweet_text\n",
              "0  264238274963451904  @jjuueellzz down in the Atlantic city, ventnor...\n",
              "1  218775148495515649  Musical awareness: Great Big Beautiful Tomorro...\n",
              "2  258965201766998017  On Radio786 100.4fm 7:10 Fri Oct 19 Labour ana...\n",
              "3  262926411352903682  Kapan sih lo ngebuktiin,jan ngomong doang Susa...\n",
              "4  171874368908050432  Excuse the connectivity of this live stream, f..."
            ]
          },
          "metadata": {
            "tags": []
          },
          "execution_count": 4
        }
      ]
    },
    {
      "cell_type": "code",
      "metadata": {
        "id": "BuSSHR5A6lfI",
        "colab_type": "code",
        "colab": {
          "base_uri": "https://localhost:8080/",
          "height": 90
        },
        "outputId": "370c79cb-0122-4c10-8a02-cc68c7b3015c"
      },
      "source": [
        "#Checking value counts of each sentiment in the input training data\n",
        "input_train['sentiment'].value_counts()\n"
      ],
      "execution_count": 5,
      "outputs": [
        {
          "output_type": "execute_result",
          "data": {
            "text/plain": [
              "positive    9064\n",
              "neutral     9014\n",
              "negative    3387\n",
              "Name: sentiment, dtype: int64"
            ]
          },
          "metadata": {
            "tags": []
          },
          "execution_count": 5
        }
      ]
    },
    {
      "cell_type": "markdown",
      "metadata": {
        "id": "t1UeI5_uL6sn",
        "colab_type": "text"
      },
      "source": [
        "# Processing the input tweets and Extracting Meaningful data\n"
      ]
    },
    {
      "cell_type": "code",
      "metadata": {
        "id": "sfl1IqiR6lXZ",
        "colab_type": "code",
        "colab": {
          "base_uri": "https://localhost:8080/",
          "height": 574
        },
        "outputId": "9adc633c-ac38-4863-a6de-33ee734e57b6"
      },
      "source": [
        "#Counting Word Counts of each tweet in a row \n",
        "input_train['word_counts']=input_train['tweet_text'].apply(lambda x: len(str(x).split()))\n",
        "\n",
        "#Counting Characters in each tweet in a row \n",
        "input_train['char_counts']=input_train['tweet_text'].apply(lambda x: len(x))\n",
        "\n",
        "# Average Word Length in each tweet\n",
        "def get_avg_word_len(x):\n",
        "    words=x.split()\n",
        "    word_len=0\n",
        "    for word in words:\n",
        "        word_len=word_len +len(word)\n",
        "    return word_len/len(words)\n",
        "\n",
        "input_train['avg_word_len']=input_train['tweet_text'].apply(lambda x: get_avg_word_len(x))\n",
        "\n",
        "\n",
        "#Removing stop words from each tweet\n",
        "input_train['stop_words_len'] =input_train['tweet_text'].apply(lambda x: len([t for t in x.split() if t in STOP_WORDS]))\n",
        "\n",
        "#Count #HashTags and @Mentions in each tweet\n",
        "input_train['hashtags_count'] = input_train['tweet_text'].apply(lambda x: len([t for t in x.split() if t.startswith('#')]))\n",
        "input_train['mentions_ count'] = input_train['tweet_text'].apply(lambda x: len([t for t in x.split() if t.startswith('@')]))\n",
        "\n",
        "###if numeric digit is present in tweet\n",
        "input_train['numeric_count']=input_train['tweet_text'].apply(lambda x: len([t for t in x.split() if t.isdigit()]))\n",
        "\n",
        "#Counting upper case words in each tweet\n",
        "input_train['upper_counts'] = input_train['tweet_text'].apply(lambda x: len([t for t in x.split() if t.isupper()]))\n",
        "\n",
        "#Checking the first five rows of dataframe with the added new columns\n",
        "input_train.head()\n"
      ],
      "execution_count": 6,
      "outputs": [
        {
          "output_type": "execute_result",
          "data": {
            "text/html": [
              "<div>\n",
              "<style scoped>\n",
              "    .dataframe tbody tr th:only-of-type {\n",
              "        vertical-align: middle;\n",
              "    }\n",
              "\n",
              "    .dataframe tbody tr th {\n",
              "        vertical-align: top;\n",
              "    }\n",
              "\n",
              "    .dataframe thead th {\n",
              "        text-align: right;\n",
              "    }\n",
              "</style>\n",
              "<table border=\"1\" class=\"dataframe\">\n",
              "  <thead>\n",
              "    <tr style=\"text-align: right;\">\n",
              "      <th></th>\n",
              "      <th>tweet_id</th>\n",
              "      <th>sentiment</th>\n",
              "      <th>tweet_text</th>\n",
              "      <th>word_counts</th>\n",
              "      <th>char_counts</th>\n",
              "      <th>avg_word_len</th>\n",
              "      <th>stop_words_len</th>\n",
              "      <th>hashtags_count</th>\n",
              "      <th>mentions_ count</th>\n",
              "      <th>numeric_count</th>\n",
              "      <th>upper_counts</th>\n",
              "    </tr>\n",
              "  </thead>\n",
              "  <tbody>\n",
              "    <tr>\n",
              "      <th>0</th>\n",
              "      <td>264183816548130816</td>\n",
              "      <td>positive</td>\n",
              "      <td>Gas by my house hit $3.39!!!! I\\u2019m going t...</td>\n",
              "      <td>14</td>\n",
              "      <td>70</td>\n",
              "      <td>4.071429</td>\n",
              "      <td>4</td>\n",
              "      <td>0</td>\n",
              "      <td>0</td>\n",
              "      <td>0</td>\n",
              "      <td>0</td>\n",
              "    </tr>\n",
              "    <tr>\n",
              "      <th>1</th>\n",
              "      <td>263405084770172928</td>\n",
              "      <td>negative</td>\n",
              "      <td>Theo Walcott is still shit\\u002c watch Rafa an...</td>\n",
              "      <td>14</td>\n",
              "      <td>81</td>\n",
              "      <td>4.857143</td>\n",
              "      <td>6</td>\n",
              "      <td>0</td>\n",
              "      <td>0</td>\n",
              "      <td>0</td>\n",
              "      <td>0</td>\n",
              "    </tr>\n",
              "    <tr>\n",
              "      <th>2</th>\n",
              "      <td>262163168678248449</td>\n",
              "      <td>negative</td>\n",
              "      <td>its not that I\\u2019m a GSP fan\\u002c i just h...</td>\n",
              "      <td>16</td>\n",
              "      <td>90</td>\n",
              "      <td>4.687500</td>\n",
              "      <td>7</td>\n",
              "      <td>0</td>\n",
              "      <td>0</td>\n",
              "      <td>0</td>\n",
              "      <td>1</td>\n",
              "    </tr>\n",
              "    <tr>\n",
              "      <th>3</th>\n",
              "      <td>264249301910310912</td>\n",
              "      <td>negative</td>\n",
              "      <td>Iranian general says Israel\\u2019s Iron Dome c...</td>\n",
              "      <td>22</td>\n",
              "      <td>135</td>\n",
              "      <td>5.181818</td>\n",
              "      <td>7</td>\n",
              "      <td>0</td>\n",
              "      <td>0</td>\n",
              "      <td>0</td>\n",
              "      <td>0</td>\n",
              "    </tr>\n",
              "    <tr>\n",
              "      <th>4</th>\n",
              "      <td>262682041215234048</td>\n",
              "      <td>neutral</td>\n",
              "      <td>Tehran\\u002c Mon Amour: Obama Tried to Establi...</td>\n",
              "      <td>21</td>\n",
              "      <td>143</td>\n",
              "      <td>5.857143</td>\n",
              "      <td>4</td>\n",
              "      <td>0</td>\n",
              "      <td>1</td>\n",
              "      <td>0</td>\n",
              "      <td>0</td>\n",
              "    </tr>\n",
              "  </tbody>\n",
              "</table>\n",
              "</div>"
            ],
            "text/plain": [
              "             tweet_id sentiment  ... numeric_count  upper_counts\n",
              "0  264183816548130816  positive  ...             0             0\n",
              "1  263405084770172928  negative  ...             0             0\n",
              "2  262163168678248449  negative  ...             0             1\n",
              "3  264249301910310912  negative  ...             0             0\n",
              "4  262682041215234048   neutral  ...             0             0\n",
              "\n",
              "[5 rows x 11 columns]"
            ]
          },
          "metadata": {
            "tags": []
          },
          "execution_count": 6
        }
      ]
    },
    {
      "cell_type": "markdown",
      "metadata": {
        "id": "_enKdcTUcaR-",
        "colab_type": "text"
      },
      "source": [
        "<H3> Cleaning  the tweets</H3>\n",
        "\n",
        "\n",
        "\n"
      ]
    },
    {
      "cell_type": "code",
      "metadata": {
        "id": "DsXWZOGocY5-",
        "colab_type": "code",
        "colab": {}
      },
      "source": [
        "#Converting all the tweets into lowercase\n",
        "input_train['tweet_text'] = input_train['tweet_text'].apply(lambda x: x.lower())\n",
        "\n"
      ],
      "execution_count": 7,
      "outputs": []
    },
    {
      "cell_type": "code",
      "metadata": {
        "id": "TnJPkgp3dKCJ",
        "colab_type": "code",
        "colab": {}
      },
      "source": [
        "#dictionay of short forms and its replacement with the proper word\n",
        "\n",
        "contractions = {\n",
        "\"ain't\": \"am not\",    \n",
        "\"aren't\": \"are not\",\n",
        "\"can't\": \"cannot\",\n",
        "\"can't have\": \"cannot have\",\n",
        "\"'cause\":\"because\",\n",
        "\"could've\": \"could have\",\n",
        "\"couldn't've\": \"could not have\",\n",
        "\"didn't\": \"did not\",\n",
        "\"doesn't\": \"does not\",\n",
        "\"don't\": \"do not\",\n",
        "\"hadn't\": \"had not\",\n",
        "\"hadn't've\": \"had not have\",\n",
        "\"hasn't\": \"has not\",\n",
        "\"haven't\": \"have not\",\n",
        "\"he'd\": \"he would\",\n",
        "\"he'd've\": \"he would have\",\n",
        "\"he'll\": \"he will\",\n",
        "\"he'll've\": \"he will have\",\n",
        "\"he's\": \"he is\",\n",
        "\"how'd\": \"how did\",\n",
        "\"how'd'y\": \"how do you\",\n",
        "\"how'll\": \"how will\",\n",
        "\"how's\": \"how does\",\n",
        "\"i'd\": \"I would\",\n",
        "\"i'd've\": \"I would have\",\n",
        "\"i'll\": \"I will\",\n",
        "\"i'll've\": \"I will have\",\n",
        "\"i'm\": \"I am\",\n",
        "\"i've\": \"I have\",\n",
        "\"isn't\": \"is not\",\n",
        "\"it'd\": \"it would\",\n",
        "\"it'd've\": \"it would have\",\n",
        "\"it'll\": \"it will\",\n",
        "\"it'll've\": \"it will have\",\n",
        "\"it's\": \"it is\",\n",
        "\"let's\": \"let us\",\n",
        "\"ma'am\": \"madam\",\n",
        "\"mayn't\": \"may not\",\n",
        "\"might've\": \"might have\",\n",
        "\"mightn't\": \"might not\",\n",
        "\"mightn't've\": \"might not have\",\n",
        "\"must've\": \"must have\",\n",
        "\"mustn't\": \"must not\",\n",
        "\"musn't've\": \"must not have\",\n",
        "\"needn't\": \"need not\",\n",
        "\"needn't've\": \"need not have\",\n",
        "\"o'clock\": \"of the clock\",\n",
        "\"oughtn't\": \"ought not\",\n",
        "\"oughtn't've\": \"ought not have\",\n",
        "\"shan't\": \"shall not\",\n",
        "\"sha'n't\": \"shall not have\",\n",
        "\"she'd\": \"she would\",\n",
        "\"she'd've\": \"she would have\",\n",
        "\"she'll\": \"she will\",\n",
        "\"she'll've\": \"she will have\",\n",
        "\"she's\": \"she is\",\n",
        "\"should've\": \"should have\",\n",
        "\"shouldn't\": \"should not\",\n",
        "\"shouldn't've\": \"should not have\",\n",
        "\"so've\": \"so have\",\n",
        "\"so's\": \"so is\",\n",
        "\"that'd\": \"that would\",\n",
        "\"that'd've\": \"that would have\",\n",
        "\"that's\": \"that is\",\n",
        "\"there'd\": \"there would\",\n",
        "\"there'd've\": \"there would have\",\n",
        "\"there's\": \"there is\",\n",
        "\"they'll\": \"they will\",\n",
        "\"they'll've\": \"they will have\",\n",
        "\"they're\": \"they are\",\n",
        "\"they've\": \"they have\",\n",
        "\"to've\": \"to have\",\n",
        "\"wasn't\": \"was not\",\n",
        "\" u \": \"you\",\n",
        "\" ur \": \"your\",\n",
        "\" n \": \"and\",\n",
        "}\n",
        "\n",
        "def cont_to_exp(x):\n",
        "  if type(x) is str:\n",
        "    for key in contractions:\n",
        "      value = contractions[key]\n",
        "      x = x.replace(key, value)\n",
        "    return x\n",
        "  else:\n",
        "    return x"
      ],
      "execution_count": 8,
      "outputs": []
    },
    {
      "cell_type": "code",
      "metadata": {
        "id": "JIc1mO18lEX9",
        "colab_type": "code",
        "colab": {
          "base_uri": "https://localhost:8080/",
          "height": 556
        },
        "outputId": "a14f54f9-2f85-466d-eb63-2d769e5cffae"
      },
      "source": [
        "#Removing any email IDs present in the tweets\n",
        "input_train['tweet_text'] = input_train['tweet_text'].apply(lambda x: re.sub(r'([a-zA-Z0-9+._-]+@[a-zA-Z0-9+._-]+\\.[a-zA-Z0-9+._-]+)',\"\",x))\n",
        "\n",
        "#Removing any URLs present in the tweets\n",
        "input_train['tweet_text'] = input_train['tweet_text'].apply(lambda x: re.sub(r'(http|ftp|https)://([\\w_-]+(?:(?:\\.[\\w_-]+)+))([\\w.,@?^=%&:/~+#-]*[\\w@?^=%&/~+#-])?',\"\", x)) \n",
        "\n",
        "#Removing tag \"RT\" - retweet present in the tweets\n",
        "input_train['tweet_text']=input_train['tweet_text'].apply(lambda x: re.sub('RT',\"\",x))\n",
        "\n",
        "#Removing any other special character present in the tweets\n",
        "input_train['tweet_text']=input_train['tweet_text'].apply(lambda x: re.sub('[^A-Z a-z 0-9-]+', '', x))\n",
        "\n",
        "#Removing digits present in the tweets\n",
        "input_train['tweet_text']=input_train['tweet_text'].apply(lambda x: re.sub('[0-9]', '', x))\n",
        "\n",
        "#Checking the first five rows of the dataframe after the above changes\n",
        "input_train.head()"
      ],
      "execution_count": 9,
      "outputs": [
        {
          "output_type": "execute_result",
          "data": {
            "text/html": [
              "<div>\n",
              "<style scoped>\n",
              "    .dataframe tbody tr th:only-of-type {\n",
              "        vertical-align: middle;\n",
              "    }\n",
              "\n",
              "    .dataframe tbody tr th {\n",
              "        vertical-align: top;\n",
              "    }\n",
              "\n",
              "    .dataframe thead th {\n",
              "        text-align: right;\n",
              "    }\n",
              "</style>\n",
              "<table border=\"1\" class=\"dataframe\">\n",
              "  <thead>\n",
              "    <tr style=\"text-align: right;\">\n",
              "      <th></th>\n",
              "      <th>tweet_id</th>\n",
              "      <th>sentiment</th>\n",
              "      <th>tweet_text</th>\n",
              "      <th>word_counts</th>\n",
              "      <th>char_counts</th>\n",
              "      <th>avg_word_len</th>\n",
              "      <th>stop_words_len</th>\n",
              "      <th>hashtags_count</th>\n",
              "      <th>mentions_ count</th>\n",
              "      <th>numeric_count</th>\n",
              "      <th>upper_counts</th>\n",
              "    </tr>\n",
              "  </thead>\n",
              "  <tbody>\n",
              "    <tr>\n",
              "      <th>0</th>\n",
              "      <td>264183816548130816</td>\n",
              "      <td>positive</td>\n",
              "      <td>gas by my house hit  ium going to chapel hill ...</td>\n",
              "      <td>14</td>\n",
              "      <td>70</td>\n",
              "      <td>4.071429</td>\n",
              "      <td>4</td>\n",
              "      <td>0</td>\n",
              "      <td>0</td>\n",
              "      <td>0</td>\n",
              "      <td>0</td>\n",
              "    </tr>\n",
              "    <tr>\n",
              "      <th>1</th>\n",
              "      <td>263405084770172928</td>\n",
              "      <td>negative</td>\n",
              "      <td>theo walcott is still shituc watch rafa and jo...</td>\n",
              "      <td>14</td>\n",
              "      <td>81</td>\n",
              "      <td>4.857143</td>\n",
              "      <td>6</td>\n",
              "      <td>0</td>\n",
              "      <td>0</td>\n",
              "      <td>0</td>\n",
              "      <td>0</td>\n",
              "    </tr>\n",
              "    <tr>\n",
              "      <th>2</th>\n",
              "      <td>262163168678248449</td>\n",
              "      <td>negative</td>\n",
              "      <td>its not that ium a gsp fanuc i just hate nick ...</td>\n",
              "      <td>16</td>\n",
              "      <td>90</td>\n",
              "      <td>4.687500</td>\n",
              "      <td>7</td>\n",
              "      <td>0</td>\n",
              "      <td>0</td>\n",
              "      <td>0</td>\n",
              "      <td>1</td>\n",
              "    </tr>\n",
              "    <tr>\n",
              "      <th>3</th>\n",
              "      <td>264249301910310912</td>\n",
              "      <td>negative</td>\n",
              "      <td>iranian general says israelus iron dome canut ...</td>\n",
              "      <td>22</td>\n",
              "      <td>135</td>\n",
              "      <td>5.181818</td>\n",
              "      <td>7</td>\n",
              "      <td>0</td>\n",
              "      <td>0</td>\n",
              "      <td>0</td>\n",
              "      <td>0</td>\n",
              "    </tr>\n",
              "    <tr>\n",
              "      <th>4</th>\n",
              "      <td>262682041215234048</td>\n",
              "      <td>neutral</td>\n",
              "      <td>tehranuc mon amour obama tried to establish ti...</td>\n",
              "      <td>21</td>\n",
              "      <td>143</td>\n",
              "      <td>5.857143</td>\n",
              "      <td>4</td>\n",
              "      <td>0</td>\n",
              "      <td>1</td>\n",
              "      <td>0</td>\n",
              "      <td>0</td>\n",
              "    </tr>\n",
              "  </tbody>\n",
              "</table>\n",
              "</div>"
            ],
            "text/plain": [
              "             tweet_id sentiment  ... numeric_count  upper_counts\n",
              "0  264183816548130816  positive  ...             0             0\n",
              "1  263405084770172928  negative  ...             0             0\n",
              "2  262163168678248449  negative  ...             0             1\n",
              "3  264249301910310912  negative  ...             0             0\n",
              "4  262682041215234048   neutral  ...             0             0\n",
              "\n",
              "[5 rows x 11 columns]"
            ]
          },
          "metadata": {
            "tags": []
          },
          "execution_count": 9
        }
      ]
    },
    {
      "cell_type": "code",
      "metadata": {
        "id": "kSA38QPApYLA",
        "colab_type": "code",
        "colab": {}
      },
      "source": [
        "#Each row of tweet_text will be converted back to string from list of words\n",
        "input_train['tweet_text']=input_train['tweet_text'].apply(lambda x: \" \".join(x.split()))\n"
      ],
      "execution_count": 10,
      "outputs": []
    },
    {
      "cell_type": "code",
      "metadata": {
        "id": "gZLrJs2Pp4vo",
        "colab_type": "code",
        "colab": {}
      },
      "source": [
        "#Removing the HTML tags present in the tweets\n",
        "input_train['tweet_text']=input_train['tweet_text'].apply(lambda x: BeautifulSoup(x, 'lxml').get_text())\n",
        "\n",
        "#Removing the Stop words from each tweet\n",
        "input_train['tweet_text']=input_train['tweet_text'].apply(lambda x: \" \".join([t for t in x.split() if t not in STOP_WORDS]))"
      ],
      "execution_count": 11,
      "outputs": []
    },
    {
      "cell_type": "code",
      "metadata": {
        "id": "EpDuDfvNrqFG",
        "colab_type": "code",
        "colab": {}
      },
      "source": [
        "#5 mins\n",
        "#Downloading spacy en_core_web_sm\n",
        "nlp = spacy.load('en_core_web_sm')\n",
        "\n",
        "#Function for applying lemmatization in each tweet - base form of the word\n",
        "def make_to_base(x):\n",
        "  x_list = []\n",
        "  doc = nlp(x)\n",
        "\n",
        "  for token in doc:\n",
        "    lemma = str(token.lemma_)\n",
        "    if lemma == '-PRON-' or lemma == 'be':\n",
        "      lemma = token.text\n",
        "    x_list.append(lemma)\n",
        "\n",
        "  return (\" \".join(x_list))\n",
        "\n",
        "#Calling function for each row of the dataframe\n",
        "input_train['tweet_text']=input_train['tweet_text'].apply(lambda x: make_to_base(x))"
      ],
      "execution_count": 12,
      "outputs": []
    },
    {
      "cell_type": "code",
      "metadata": {
        "id": "jrQ_p3wIsWlO",
        "colab_type": "code",
        "colab": {
          "base_uri": "https://localhost:8080/",
          "height": 539
        },
        "outputId": "b4a72b8d-c002-403e-b5b2-4ff070c953b0"
      },
      "source": [
        "#Removing the most common and most rare 20 words \n",
        "\n",
        "text = ' '.join(input_train['tweet_text'])\n",
        "text = text.split()\n",
        "freq_comm = pd.Series(text).value_counts()\n",
        "f20 = freq_comm[:20] \n",
        "rare20 = freq_comm[-20:] \n",
        "\n",
        "input_train['tweet_text']=input_train['tweet_text'].apply(lambda x: \" \".join([t for t in x.split() if t not in f20]))\n",
        "input_train['tweet_text']=input_train['tweet_text'].apply(lambda x: \" \".join([t for t in x.split() if t not in rare20]))\n",
        "\n",
        "input_train.head()"
      ],
      "execution_count": 13,
      "outputs": [
        {
          "output_type": "execute_result",
          "data": {
            "text/html": [
              "<div>\n",
              "<style scoped>\n",
              "    .dataframe tbody tr th:only-of-type {\n",
              "        vertical-align: middle;\n",
              "    }\n",
              "\n",
              "    .dataframe tbody tr th {\n",
              "        vertical-align: top;\n",
              "    }\n",
              "\n",
              "    .dataframe thead th {\n",
              "        text-align: right;\n",
              "    }\n",
              "</style>\n",
              "<table border=\"1\" class=\"dataframe\">\n",
              "  <thead>\n",
              "    <tr style=\"text-align: right;\">\n",
              "      <th></th>\n",
              "      <th>tweet_id</th>\n",
              "      <th>sentiment</th>\n",
              "      <th>tweet_text</th>\n",
              "      <th>word_counts</th>\n",
              "      <th>char_counts</th>\n",
              "      <th>avg_word_len</th>\n",
              "      <th>stop_words_len</th>\n",
              "      <th>hashtags_count</th>\n",
              "      <th>mentions_ count</th>\n",
              "      <th>numeric_count</th>\n",
              "      <th>upper_counts</th>\n",
              "    </tr>\n",
              "  </thead>\n",
              "  <tbody>\n",
              "    <tr>\n",
              "      <th>0</th>\n",
              "      <td>264183816548130816</td>\n",
              "      <td>positive</td>\n",
              "      <td>gas house hit ium chapel hill sit</td>\n",
              "      <td>14</td>\n",
              "      <td>70</td>\n",
              "      <td>4.071429</td>\n",
              "      <td>4</td>\n",
              "      <td>0</td>\n",
              "      <td>0</td>\n",
              "      <td>0</td>\n",
              "      <td>0</td>\n",
              "    </tr>\n",
              "    <tr>\n",
              "      <th>1</th>\n",
              "      <td>263405084770172928</td>\n",
              "      <td>negative</td>\n",
              "      <td>theo walcott shituc rafa johnny deal</td>\n",
              "      <td>14</td>\n",
              "      <td>81</td>\n",
              "      <td>4.857143</td>\n",
              "      <td>6</td>\n",
              "      <td>0</td>\n",
              "      <td>0</td>\n",
              "      <td>0</td>\n",
              "      <td>0</td>\n",
              "    </tr>\n",
              "    <tr>\n",
              "      <th>2</th>\n",
              "      <td>262163168678248449</td>\n",
              "      <td>negative</td>\n",
              "      <td>ium gsp fanuc hate nick diaz canut wait february</td>\n",
              "      <td>16</td>\n",
              "      <td>90</td>\n",
              "      <td>4.687500</td>\n",
              "      <td>7</td>\n",
              "      <td>0</td>\n",
              "      <td>0</td>\n",
              "      <td>0</td>\n",
              "      <td>1</td>\n",
              "    </tr>\n",
              "    <tr>\n",
              "      <th>3</th>\n",
              "      <td>264249301910310912</td>\n",
              "      <td>negative</td>\n",
              "      <td>iranian general say israelus iron dome canut d...</td>\n",
              "      <td>22</td>\n",
              "      <td>135</td>\n",
              "      <td>5.181818</td>\n",
              "      <td>7</td>\n",
              "      <td>0</td>\n",
              "      <td>0</td>\n",
              "      <td>0</td>\n",
              "      <td>0</td>\n",
              "    </tr>\n",
              "    <tr>\n",
              "      <th>4</th>\n",
              "      <td>262682041215234048</td>\n",
              "      <td>neutral</td>\n",
              "      <td>tehranuc mon amour obama try establish tie mul...</td>\n",
              "      <td>21</td>\n",
              "      <td>143</td>\n",
              "      <td>5.857143</td>\n",
              "      <td>4</td>\n",
              "      <td>0</td>\n",
              "      <td>1</td>\n",
              "      <td>0</td>\n",
              "      <td>0</td>\n",
              "    </tr>\n",
              "  </tbody>\n",
              "</table>\n",
              "</div>"
            ],
            "text/plain": [
              "             tweet_id sentiment  ... numeric_count  upper_counts\n",
              "0  264183816548130816  positive  ...             0             0\n",
              "1  263405084770172928  negative  ...             0             0\n",
              "2  262163168678248449  negative  ...             0             1\n",
              "3  264249301910310912  negative  ...             0             0\n",
              "4  262682041215234048   neutral  ...             0             0\n",
              "\n",
              "[5 rows x 11 columns]"
            ]
          },
          "metadata": {
            "tags": []
          },
          "execution_count": 13
        }
      ]
    },
    {
      "cell_type": "code",
      "metadata": {
        "id": "0ypkffPxwza4",
        "colab_type": "code",
        "colab": {
          "base_uri": "https://localhost:8080/",
          "height": 198
        },
        "outputId": "1e2376bb-719e-462f-b338-4fde4eb8016d"
      },
      "source": [
        "#Word Cloud for the most common words\n",
        "x = ' '.join(text)\n",
        "wc = WordCloud(width = 800, height = 400).generate(x)\n",
        "plt.imshow(wc)\n",
        "plt.axis('off')\n",
        "plt.show()"
      ],
      "execution_count": 14,
      "outputs": [
        {
          "output_type": "display_data",
          "data": {
            "image/png": "[encoded data removed]",
            "text/plain": [
              "<Figure size 432x288 with 1 Axes>"
            ]
          },
          "metadata": {
            "tags": [],
            "needs_background": "light"
          }
        }
      ]
    },
    {
      "cell_type": "code",
      "metadata": {
        "id": "Te842BEYyDni",
        "colab_type": "code",
        "colab": {}
      },
      "source": [
        "#Tokenization\n",
        "input_train['tweet_text']=input_train['tweet_text'].apply(lambda x: TextBlob(str(x)).words)"
      ],
      "execution_count": 15,
      "outputs": []
    },
    {
      "cell_type": "markdown",
      "metadata": {
        "id": "C-Bu4eny4UPu",
        "colab_type": "text"
      },
      "source": [
        "# ML models for text classification"
      ]
    },
    {
      "cell_type": "code",
      "metadata": {
        "id": "iMRcrSa-4XqM",
        "colab_type": "code",
        "colab": {}
      },
      "source": [
        "df0=input_train[input_train['sentiment']=='positive']\n",
        "df2=input_train[input_train['sentiment']=='neutral']\n",
        "df4=input_train[input_train['sentiment']=='negative']\n",
        "dfr=df0.append(df4)\n",
        "dfr=dfr.append(df2)\n",
        "\n",
        "dfr['tweet_text'] = dfr['tweet_text'].apply(lambda x: \" \".join(x)) \n",
        "dfr_feat=dfr.drop(labels=['tweet_text', 'sentiment'], axis=1)\n",
        "y=dfr['sentiment']"
      ],
      "execution_count": 16,
      "outputs": []
    },
    {
      "cell_type": "code",
      "metadata": {
        "id": "STyEpES68xfx",
        "colab_type": "code",
        "colab": {}
      },
      "source": [
        "sgd=SGDClassifier(n_jobs=-1, random_state=42, max_iter=200)\n",
        "lgr=LogisticRegression(random_state=42, max_iter=200)\n",
        "lgrcv=LogisticRegressionCV(cv=2, random_state=42, max_iter=1000)\n",
        "svm=LinearSVC(random_state=42, max_iter=200)\n",
        "rfc=RandomForestClassifier(random_state=42, n_jobs=-1, n_estimators=200)\n",
        "\n",
        "clf={'SGD': sgd, 'LR': lgr, 'LGR-CV': lgrcv, 'SVM': svm, 'RFC':rfc}"
      ],
      "execution_count": 17,
      "outputs": []
    },
    {
      "cell_type": "code",
      "metadata": {
        "id": "tujk4zUaBiAF",
        "colab_type": "code",
        "colab": {}
      },
      "source": [
        "def classify(X, y):\n",
        "  scaler=MaxAbsScaler()\n",
        "  X=scaler.fit_transform(X)\n",
        "\n",
        "  X_train, X_test, y_train, y_test= train_test_split(X,y, test_size=0.2, random_state=42, stratify=y)\n",
        "\n",
        "  for key in clf.keys():\n",
        "    clf[key].fit(X_train, y_train)\n",
        "\n",
        "    y_pred=clf[key].predict(X_test)\n",
        "    ac=accuracy_score(y_test, y_pred)"
      ],
      "execution_count": 18,
      "outputs": []
    },
    {
      "cell_type": "code",
      "metadata": {
        "id": "nzUwUHQsHKpJ",
        "colab_type": "code",
        "colab": {
          "base_uri": "https://localhost:8080/",
          "height": 54
        },
        "outputId": "4bc57c92-2373-4288-d38b-70eb6410f3ae"
      },
      "source": [
        "%%time\n",
        "classify(dfr_feat, y)"
      ],
      "execution_count": 19,
      "outputs": [
        {
          "output_type": "stream",
          "text": [
            "CPU times: user 22.5 s, sys: 3.68 s, total: 26.2 s\n",
            "Wall time: 17.4 s\n"
          ],
          "name": "stdout"
        }
      ]
    },
    {
      "cell_type": "code",
      "metadata": {
        "id": "YiWkVJ1xH99_",
        "colab_type": "code",
        "colab": {}
      },
      "source": [
        "#7 mins\n",
        "from sklearn.feature_extraction.text import TfidfVectorizer\n",
        "\n",
        "tfidf = TfidfVectorizer()\n",
        "X=tfidf.fit_transform(dfr['tweet_text'])\n",
        "\n",
        "scaler=MaxAbsScaler()\n",
        "X=scaler.fit_transform(X)\n",
        "\n",
        "X_train, X_test, y_train, y_test= train_test_split(X,y, test_size=0.2, random_state=42, stratify=y)\n",
        "\n",
        "\n",
        "for key in clf.keys():\n",
        "  clf[key].fit(X_train, y_train)\n",
        "\n",
        "  y_pred=clf[key].predict(X_test)\n",
        "  ac=accuracy_score(y_test, y_pred)\n"
      ],
      "execution_count": 20,
      "outputs": []
    },
    {
      "cell_type": "code",
      "metadata": {
        "id": "X3vndJTh7uuW",
        "colab_type": "code",
        "colab": {
          "base_uri": "https://localhost:8080/",
          "height": 109
        },
        "outputId": "d6d29f97-00d1-4121-b39b-d2ead40ea5a4"
      },
      "source": [
        "# Repeating the same steps for cleaning and processing the test data as done for training data\n",
        "#10 mins\n",
        "\n",
        "\n",
        "df_test['word_counts']=df_test['tweet_text'].apply(lambda x: len(str(x).split()))\n",
        "df_test['char_counts']=df_test['tweet_text'].apply(lambda x: len(x))\n",
        "df_test['avg_word_len']=df_test['tweet_text'].apply(lambda x: get_avg_word_len(x))\n",
        "df_test['stop_words_len'] =df_test['tweet_text'].apply(lambda x: len([t for t in x.split() if t in STOP_WORDS]))\n",
        "df_test['hashtags_count'] = df_test['tweet_text'].apply(lambda x: len([t for t in x.split() if t.startswith('#')]))\n",
        "df_test['mentions_ count'] = df_test['tweet_text'].apply(lambda x: len([t for t in x.split() if t.startswith('@')]))\n",
        "df_test['numeric_count']=df_test['tweet_text'].apply(lambda x: len([t for t in x.split() if t.isdigit()]))\n",
        "df_test['upper_counts'] = df_test['tweet_text'].apply(lambda x: len([t for t in x.split() if t.isupper()]))\n",
        "df_test['tweet_text'] = df_test['tweet_text'].apply(lambda x: x.lower())\n",
        "df_test['tweet_text'] = df_test['tweet_text'].apply(lambda x: re.sub(r'([a-zA-Z0-9+._-]+@[a-zA-Z0-9+._-]+\\.[a-zA-Z0-9+._-]+)',\"\",x))\n",
        "df_test['tweet_text'] = df_test['tweet_text'].apply(lambda x: re.sub(r'(http|ftp|https)://([\\w_-]+(?:(?:\\.[\\w_-]+)+))([\\w.,@?^=%&:/~+#-]*[\\w@?^=%&/~+#-])?',\"\", x))\n",
        "df_test['tweet_text']=df_test['tweet_text'].apply(lambda x: re.sub('RT',\"\",x))\n",
        "df_test['tweet_text']=df_test['tweet_text'].apply(lambda x: re.sub('[^A-Z a-z 0-9-]+', '', x))\n",
        "df_test['tweet_text']=df_test['tweet_text'].apply(lambda x: re.sub('[0-9]', '', x))\n",
        "df_test['tweet_text']=df_test['tweet_text'].apply(lambda x: \" \".join(x.split()))\n",
        "df_test['tweet_text']=df_test['tweet_text'].apply(lambda x: BeautifulSoup(x, 'lxml').get_text())\n",
        "df_test['tweet_text']=df_test['tweet_text'].apply(lambda x: \" \".join([t for t in x.split() if t not in STOP_WORDS]))\n",
        "df_test['tweet_text']=df_test['tweet_text'].apply(lambda x: make_to_base(x))\n",
        "text_test = ' '.join(df_test['tweet_text'])\n",
        "text_test = text_test.split()\n",
        "freq_comm = pd.Series(text_test).value_counts()\n",
        "f20 = freq_comm[:20] #\n",
        "df_test['tweet_text']=df_test['tweet_text'].apply(lambda x: \" \".join([t for t in x.split() if t not in f20]))\n",
        "rare20 = freq_comm[-20:]\n",
        "df_test['tweet_text']=df_test['tweet_text'].apply(lambda x: \" \".join([t for t in x.split() if t not in rare20]))\n",
        "x = ' '.join(text_test)\n",
        "df_test['tweet_text']=df_test['tweet_text'].apply(lambda x: TextBlob(str(x)).words)\n",
        "df_test['tweet_text'] = df_test['tweet_text'].apply(lambda x: \" \".join(x)) \n",
        "dfr_feat=df_test.drop(labels=['tweet_text'], axis=1)\n",
        "\n",
        "\n",
        "X_train = df_test['tweet_text']\n",
        "X_train = tfidf.transform(X_train)\n",
        "X_train = scaler.transform(X_train)\n",
        "\n",
        "pred_list=[]\n",
        "\n",
        "for key in clf.keys():\n",
        "  print(key)\n",
        "  y_pred=clf[key].predict(X_train)\n",
        "  pred_list.append(y_pred)"
      ],
      "execution_count": 21,
      "outputs": [
        {
          "output_type": "stream",
          "text": [
            "SGD\n",
            "LR\n",
            "LGR-CV\n",
            "SVM\n",
            "RFC\n"
          ],
          "name": "stdout"
        }
      ]
    },
    {
      "cell_type": "code",
      "metadata": {
        "id": "M7_ZdSjIXzoZ",
        "colab_type": "code",
        "colab": {
          "base_uri": "https://localhost:8080/",
          "height": 17
        },
        "outputId": "20ebcfe7-78d5-4d90-f811-f5db4567ccd5"
      },
      "source": [
        "#downloading the final output files\n",
        "\n",
        "from google.colab import files\n",
        "df_SGD = pd.DataFrame(df_test.iloc[:,0])\n",
        "df_SGD['sentiment']=pred_list[0]\n",
        "df_SGD.to_csv('output_SGD.csv',index=False)\n",
        "# files.download('output_SGD.csv')\n",
        "\n",
        "df_LR = pd.DataFrame(df_test.iloc[:,0])\n",
        "df_LR['sentiment']=pred_list[1]\n",
        "df_LR.to_csv('output_LR.csv',index=False)\n",
        "# files.download('output_LR.csv')\n",
        "\n",
        "df_LGRCV = pd.DataFrame(df_test.iloc[:,0])\n",
        "df_LGRCV['sentiment']=pred_list[2]\n",
        "df_LGRCV.to_csv('output_LGRCV.csv',index=False)\n",
        "# files.download('output_LGRCV.csv')\n",
        "\n",
        "df_SVM = pd.DataFrame(df_test.iloc[:,0])\n",
        "df_SVM['sentiment']=pred_list[3]\n",
        "df_SVM.to_csv('output_SVM.csv',index=False)\n",
        "# files.download('output_SVM.csv')\n",
        "\n",
        "#the model which gives the best accuracy \n",
        "df_RFC = pd.DataFrame(df_test.iloc[:,0])\n",
        "df_RFC['sentiment']=pred_list[4]\n",
        "df_RFC.to_csv('output_RFC.csv',index=False)\n",
        "files.download('output_RFC.csv')\n"
      ],
      "execution_count": 22,
      "outputs": [
        {
          "output_type": "display_data",
          "data": {
            "application/javascript": [
              "\n",
              "    async function download(id, filename, size) {\n",
              "      if (!google.colab.kernel.accessAllowed) {\n",
              "        return;\n",
              "      }\n",
              "      const div = document.createElement('div');\n",
              "      const label = document.createElement('label');\n",
              "      label.textContent = `Downloading \"${filename}\": `;\n",
              "      div.appendChild(label);\n",
              "      const progress = document.createElement('progress');\n",
              "      progress.max = size;\n",
              "      div.appendChild(progress);\n",
              "      document.body.appendChild(div);\n",
              "\n",
              "      const buffers = [];\n",
              "      let downloaded = 0;\n",
              "\n",
              "      const channel = await google.colab.kernel.comms.open(id);\n",
              "      // Send a message to notify the kernel that we're ready.\n",
              "      channel.send({})\n",
              "\n",
              "      for await (const message of channel.messages) {\n",
              "        // Send a message to notify the kernel that we're ready.\n",
              "        channel.send({})\n",
              "        if (message.buffers) {\n",
              "          for (const buffer of message.buffers) {\n",
              "            buffers.push(buffer);\n",
              "            downloaded += buffer.byteLength;\n",
              "            progress.value = downloaded;\n",
              "          }\n",
              "        }\n",
              "      }\n",
              "      const blob = new Blob(buffers, {type: 'application/binary'});\n",
              "      const a = document.createElement('a');\n",
              "      a.href = window.URL.createObjectURL(blob);\n",
              "      a.download = filename;\n",
              "      div.appendChild(a);\n",
              "      a.click();\n",
              "      div.remove();\n",
              "    }\n",
              "  "
            ],
            "text/plain": [
              "<IPython.core.display.Javascript object>"
            ]
          },
          "metadata": {
            "tags": []
          }
        },
        {
          "output_type": "display_data",
          "data": {
            "application/javascript": [
              "download(\"download_f327bf8d-57d9-4c50-b2ea-7d240d937b7a\", \"output_RFC.csv\", 148274)"
            ],
            "text/plain": [
              "<IPython.core.display.Javascript object>"
            ]
          },
          "metadata": {
            "tags": []
          }
        }
      ]
    }
  ]
}